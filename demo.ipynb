{
 "cells": [
  {
   "cell_type": "code",
   "execution_count": 1,
   "metadata": {},
   "outputs": [],
   "source": [
    "import pandas as pd\n",
    "import numpy as np"
   ]
  },
  {
   "cell_type": "code",
   "execution_count": 3,
   "metadata": {},
   "outputs": [],
   "source": [
    "path = 'data/svmguide3.csv'"
   ]
  },
  {
   "cell_type": "code",
   "execution_count": 10,
   "metadata": {},
   "outputs": [
    {
     "name": "stdout",
     "output_type": "stream",
     "text": [
      "           att_1        att_2       att_3        att_4       att_5  \\\n",
      "0     0 0.064284  1 -0.000885  2 0.000072  3 -0.263788  4 0.003891   \n",
      "1     0 0.041428  1 -0.003728  2 0.001009  3 -0.019577  4 0.001843   \n",
      "2     0 0.035714  1 -0.006948   2 0.00396  3 -0.290222  4 0.059114   \n",
      "3     0 0.034285   1 -0.00541  2 0.002529  3 -0.022105  4 0.003653   \n",
      "4     0 0.112857  1 -0.009484  2 0.002335  3 -0.114113  4 0.010015   \n",
      "...          ...          ...         ...          ...         ...   \n",
      "1238  0 0.155713  1 -0.059213  2 0.044411  3 -0.415298   4 0.11249   \n",
      "1239  0 0.237145   1 -0.04523  2 0.018895  3 -0.548503   4 0.08228   \n",
      "1240  0 0.042857  1 -0.050936  2 0.121772  3 -0.185244  4 0.160706   \n",
      "1241  0 0.125714   1 -0.06866  2 0.074968  3 -0.289851  4 0.114853   \n",
      "1242  0 0.172854  1 -0.040135  2 0.019821  3 -0.076399  4 0.013637   \n",
      "\n",
      "            att_6       att_7        att_8       att_9 att_10  ...  \\\n",
      "0     5 -0.000029  6 0.108449  7 -0.000575  8 0.000011    9 1  ...   \n",
      "1     5 -0.000046  6 0.000989  7 -0.000033  8 0.000002    9 1  ...   \n",
      "2     5 -0.003128  6 0.233714  7 -0.016901  8 0.002318    9 1  ...   \n",
      "3     5 -0.000157  6 0.001466  7 -0.000085  8 0.000009    9 1  ...   \n",
      "4     5 -0.000228  6 0.011546  7 -0.000358  8 0.000021    9 1  ...   \n",
      "...           ...         ...          ...         ...    ...  ...   \n",
      "1238  5 -0.007835  6 0.074683  7 -0.007184  8 0.001297    9 1  ...   \n",
      "1239  5 -0.003193  6 0.094437  7 -0.005032  8 0.000506    9 1  ...   \n",
      "1240  5 -0.035674  6 0.055388  7 -0.017062  8 0.009814    9 1  ...   \n",
      "1241  5 -0.011646  6 0.046326  7 -0.006519  8 0.001713    9 1  ...   \n",
      "1242  5 -0.000624  6 0.002521  7 -0.000159  8 0.000019    9 1  ...   \n",
      "\n",
      "           att_14       att_15       att_16       att_17       att_18  \\\n",
      "0     15 0.532533  16 0.149772  17 0.285714  18 0.165124  19 0.000743   \n",
      "1          14 0.1  15 0.566595  16 0.323102       17 0.4  18 0.398471   \n",
      "2     15 0.538384  16 0.321141       17 0.5  18 0.157092  19 0.000609   \n",
      "3     15 0.550023  16 0.373554       17 0.2  18 0.319335  19 0.010399   \n",
      "4          13 0.1       14 0.3  15 0.557624  16 0.141051  17 0.111111   \n",
      "...           ...          ...          ...          ...          ...   \n",
      "1238       13 0.2       14 0.1         15 1  16 0.208613  17 0.166667   \n",
      "1239       13 0.1       14 0.1  15 0.666213  16 0.096659  17 0.142857   \n",
      "1240  15 0.873469  16 0.368155       17 0.2  18 0.143472  19 0.000424   \n",
      "1241  15 0.733977  16 0.153027  17 0.111111  18 0.207896  19 0.001868   \n",
      "1242         15 1  16 0.124373  17 0.083333   18 0.19821  19 0.001543   \n",
      "\n",
      "           att_19       att_20 att_21 att_22 class  \n",
      "0           22 -1          NaN    NaN    NaN   NaN  \n",
      "1     19 0.025211        22 -1    NaN    NaN   NaN  \n",
      "2           22 -1          NaN    NaN    NaN   NaN  \n",
      "3           22 -1          NaN    NaN    NaN   NaN  \n",
      "4     18 0.288033  19 0.006883  22 -1    NaN   NaN  \n",
      "...           ...          ...    ...    ...   ...  \n",
      "1238  18 0.201193  19 0.001639   22 1    NaN   NaN  \n",
      "1239  18 0.226599  19 0.002637   22 1    NaN   NaN  \n",
      "1240         22 1          NaN    NaN    NaN   NaN  \n",
      "1241         22 1          NaN    NaN    NaN   NaN  \n",
      "1242         22 1          NaN    NaN    NaN   NaN  \n",
      "\n",
      "[1243 rows x 23 columns]\n"
     ]
    }
   ],
   "source": [
    "fw = pd.read_csv(path)\n",
    "print(fw)"
   ]
  },
  {
   "cell_type": "code",
   "execution_count": 9,
   "metadata": {},
   "outputs": [],
   "source": [
    "f = open(path)\n",
    "\n",
    "lines = f.readlines()\n",
    "f.close()\n",
    "tmp = [lines[0]]\n",
    "\n",
    "\n",
    "for line in lines[1:]:  \n",
    "    tmp_line = [\"\" for i in lines[0].split(',')]\n",
    "\n",
    "    items = line.split(',')\n",
    "    for item in items:\n",
    "        idx, val = item.split(' ')\n",
    "        idx = eval(idx)\n",
    "        tmp_line[idx] = val\n",
    "        \n",
    "    tmp_s = ','.join(tmp_line)\n",
    "    tmp.append(tmp_s)\n",
    "\n",
    "f = open('./hh.csv', 'w')\n",
    "f.writelines(tmp)"
   ]
  },
  {
   "cell_type": "code",
   "execution_count": 25,
   "metadata": {},
   "outputs": [
    {
     "name": "stdout",
     "output_type": "stream",
     "text": [
      "[Log] load  x as (1234, 21), y as (1234,)\n",
      "[ 6.42840e-02 -8.85000e-04  7.20000e-05 -2.63788e-01  3.89100e-03\n",
      " -2.90000e-05  1.08449e-01 -5.75000e-04  1.10000e-05  1.00000e+00\n",
      "  0.00000e+00  7.97863e-01  5.09888e-01  0.00000e+00  1.00000e-01\n",
      "  5.32533e-01  1.49772e-01  2.85714e-01  1.65124e-01  7.43000e-04\n",
      "  0.00000e+00] -1.0\n"
     ]
    }
   ],
   "source": [
    "import utils\n",
    "\n",
    "data_set = utils.DataLoader('./data')\n",
    "\n",
    "x, y = data_set.load_data('svmguide3')\n",
    "x[x != x] = 0\n",
    "print(x[0], y[0])\n"
   ]
  },
  {
   "cell_type": "code",
   "execution_count": 6,
   "metadata": {},
   "outputs": [
    {
     "name": "stdout",
     "output_type": "stream",
     "text": [
      "(1, 5)\n"
     ]
    }
   ],
   "source": [
    "x = np.ones((1, 2))\n",
    "y = np.zeros((1, 3))\n",
    "\n",
    "z = np.concatenate((x, y), axis=1)\n",
    "print(z.shape)\n"
   ]
  },
  {
   "cell_type": "code",
   "execution_count": 42,
   "metadata": {},
   "outputs": [
    {
     "name": "stdout",
     "output_type": "stream",
     "text": [
      "[[1 1 0 1 1]\n",
      " [0 1 1 1 1]\n",
      " [1 1 1 1 1]]\n"
     ]
    }
   ],
   "source": [
    "x = np.random.choice([0, 1], size=(3, 5), p=[1/5, 1-1/5])\n",
    "print(x)"
   ]
  },
  {
   "cell_type": "code",
   "execution_count": 44,
   "metadata": {},
   "outputs": [
    {
     "name": "stdout",
     "output_type": "stream",
     "text": [
      "[ True False  True]\n",
      "[False  True False]\n"
     ]
    }
   ],
   "source": [
    "idx = (x[:, 0] > 0) * (x[:, 1] > 0)\n",
    "tmp = np.ones((1, 5))\n",
    "print(idx)\n",
    "print(idx == 0)\n",
    "# print(x[idx.T, :])\n",
    "# print(np.concatenate((x, tmp), axis=0))"
   ]
  },
  {
   "cell_type": "code",
   "execution_count": 25,
   "metadata": {},
   "outputs": [
    {
     "data": {
      "text/plain": [
       "3"
      ]
     },
     "execution_count": 25,
     "metadata": {},
     "output_type": "execute_result"
    }
   ],
   "source": [
    "len(idx)"
   ]
  },
  {
   "cell_type": "code",
   "execution_count": 28,
   "metadata": {},
   "outputs": [
    {
     "name": "stdout",
     "output_type": "stream",
     "text": [
      "(3, 1)\n",
      "[[0.]\n",
      " [0.]\n",
      " [0.]]\n"
     ]
    }
   ],
   "source": [
    "x = np.zeros(3)\n",
    "x = x[..., np.newaxis]\n",
    "print(x.shape)\n",
    "print(x)"
   ]
  },
  {
   "cell_type": "code",
   "execution_count": 35,
   "metadata": {},
   "outputs": [
    {
     "name": "stdout",
     "output_type": "stream",
     "text": [
      "[[0. 0. 0.]]\n"
     ]
    }
   ],
   "source": [
    "x = np.zeros(3)\n",
    "x = x[..., np.newaxis].T\n",
    "print(x)"
   ]
  },
  {
   "cell_type": "code",
   "execution_count": 40,
   "metadata": {},
   "outputs": [
    {
     "data": {
      "text/plain": [
       "array([[1, 1, 1, 1, 1]])"
      ]
     },
     "execution_count": 40,
     "metadata": {},
     "output_type": "execute_result"
    }
   ],
   "source": [
    "np.random.choice([0, 1], size=(1, 5), p=[1 / 5, 1 - 1 / 5])"
   ]
  },
  {
   "cell_type": "code",
   "execution_count": 45,
   "metadata": {},
   "outputs": [
    {
     "name": "stdout",
     "output_type": "stream",
     "text": [
      "[1]\n"
     ]
    }
   ],
   "source": [
    "import random\n",
    "x = [[1], [2]]\n",
    "print(random.choice(x))"
   ]
  },
  {
   "cell_type": "code",
   "execution_count": 1,
   "metadata": {},
   "outputs": [
    {
     "name": "stdout",
     "output_type": "stream",
     "text": [
      "{1: 0}\n"
     ]
    }
   ],
   "source": [
    "x = {}\n",
    "x[1] = 0"
   ]
  },
  {
   "cell_type": "code",
   "execution_count": null,
   "metadata": {},
   "outputs": [],
   "source": []
  }
 ],
 "metadata": {
  "interpreter": {
   "hash": "586ad1ed5c97141e2437e681efbf1ec0adcd17d830cf5af2ca3d2819e743e158"
  },
  "kernelspec": {
   "display_name": "Python 3.8.8 64-bit ('base': conda)",
   "language": "python",
   "name": "python3"
  },
  "language_info": {
   "codemirror_mode": {
    "name": "ipython",
    "version": 3
   },
   "file_extension": ".py",
   "mimetype": "text/x-python",
   "name": "python",
   "nbconvert_exporter": "python",
   "pygments_lexer": "ipython3",
   "version": "3.8.8"
  },
  "orig_nbformat": 4
 },
 "nbformat": 4,
 "nbformat_minor": 2
}
